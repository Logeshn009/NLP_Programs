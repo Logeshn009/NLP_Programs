{
  "cells": [
    {
      "cell_type": "markdown",
      "metadata": {
        "id": "view-in-github",
        "colab_type": "text"
      },
      "source": [
        "<a href=\"https://colab.research.google.com/github/Logeshn009/NLP_Programs/blob/main/NLP_lab_Programs.ipynb\" target=\"_parent\"><img src=\"https://colab.research.google.com/assets/colab-badge.svg\" alt=\"Open In Colab\"/></a>"
      ]
    },
    {
      "cell_type": "markdown",
      "source": [
        "# Lab 1 - Tokenizers"
      ],
      "metadata": {
        "id": "LWB_K_ViN7tE"
      }
    },
    {
      "cell_type": "code",
      "execution_count": null,
      "metadata": {
        "id": "av8owrjV7IrY"
      },
      "outputs": [],
      "source": [
        "from nltk.tokenize.treebank import TreebankWordTokenizer\n",
        "import nltk\n",
        "from nltk.tokenize import (word_tokenize, sent_tokenize, wordpunct_tokenize, WhitespaceTokenizer)\n",
        "text = '''#OnThisDay in 2️⃣0️⃣1️⃣2️⃣, \n",
        "@imVkohli\n",
        " brought up his 1️2th ODI ton, scoring a fine 1️⃣0️⃣6️⃣ (113) to help 🇮🇳 amass 3️⃣1️⃣4️⃣ against Sri Lanka at Hambanota. 🔝💥\n",
        " Congratulations to #TeamIndia on winning the ODI series. Keep up the good work and continue this form. Special mention to \n",
        "@RishabhPant17\n",
        " and \n",
        "@hardikpandya7\n",
        " for a wonderful performance. Don't underestimate india!!\\n'''\n",
        "tokenizer = TreebankWordTokenizer()\n",
        "word_tokenize(text)\n",
        "sent_tokenize(text)\n",
        "wordpunct_tokenize(text)\n"
      ]
    },
    {
      "cell_type": "code",
      "source": [
        "print(\"Sentence split by comma\",\"\\n\\n\", text.split(','))\n",
        "print(\"\\nSentence split by whitespace:\\n\\n\", text.split())\n",
        "print(\"\\nWord-tokenized Data:\\n\\n\", word_tokenize(text))\n",
        "print(\"\\nSent-tokenized Data:\\n\\n\", sent_tokenize(text))\n",
        "print(\"\\nWord-punct tokenized Data:\\n\\n\", wordpunct_tokenize(text))\n",
        "print(\"\\nTreeBank tokenized Data:\\n\\n\", tokenizer.tokenize(text))\n",
        "print(len(text))"
      ],
      "metadata": {
        "colab": {
          "base_uri": "https://localhost:8080/"
        },
        "id": "vv0lyee0EHbt",
        "outputId": "ebad5da0-c776-47fb-b389-a9a3d4b29a4a"
      },
      "execution_count": null,
      "outputs": [
        {
          "output_type": "stream",
          "name": "stdout",
          "text": [
            "Sentence split by comma \n",
            "\n",
            " ['#OnThisDay in 2️⃣0️⃣1️⃣2️⃣', ' \\n@imVkohli\\n brought up his 1️2th ODI ton', \" scoring a fine 1️⃣0️⃣6️⃣ (113) to help 🇮🇳 amass 3️⃣1️⃣4️⃣ against Sri Lanka at Hambanota. 🔝💥\\n Congratulations to #TeamIndia on winning the ODI series. Keep up the good work and continue this form. Special mention to \\n@RishabhPant17\\n and \\n@hardikpandya7\\n for a wonderful performance. Don't underestimate india!!\\n\"]\n",
            "\n",
            "Sentence split by whitespace:\n",
            "\n",
            " ['#OnThisDay', 'in', '2️⃣0️⃣1️⃣2️⃣,', '@imVkohli', 'brought', 'up', 'his', '1️2th', 'ODI', 'ton,', 'scoring', 'a', 'fine', '1️⃣0️⃣6️⃣', '(113)', 'to', 'help', '🇮🇳', 'amass', '3️⃣1️⃣4️⃣', 'against', 'Sri', 'Lanka', 'at', 'Hambanota.', '🔝💥', 'Congratulations', 'to', '#TeamIndia', 'on', 'winning', 'the', 'ODI', 'series.', 'Keep', 'up', 'the', 'good', 'work', 'and', 'continue', 'this', 'form.', 'Special', 'mention', 'to', '@RishabhPant17', 'and', '@hardikpandya7', 'for', 'a', 'wonderful', 'performance.', \"Don't\", 'underestimate', 'india!!']\n",
            "\n",
            "Word-tokenized Data:\n",
            "\n",
            " ['#', 'OnThisDay', 'in', '2️⃣0️⃣1️⃣2️⃣', ',', '@', 'imVkohli', 'brought', 'up', 'his', '1️2th', 'ODI', 'ton', ',', 'scoring', 'a', 'fine', '1️⃣0️⃣6️⃣', '(', '113', ')', 'to', 'help', '🇮🇳', 'amass', '3️⃣1️⃣4️⃣', 'against', 'Sri', 'Lanka', 'at', 'Hambanota', '.', '🔝💥', 'Congratulations', 'to', '#', 'TeamIndia', 'on', 'winning', 'the', 'ODI', 'series', '.', 'Keep', 'up', 'the', 'good', 'work', 'and', 'continue', 'this', 'form', '.', 'Special', 'mention', 'to', '@', 'RishabhPant17', 'and', '@', 'hardikpandya7', 'for', 'a', 'wonderful', 'performance', '.', 'Do', \"n't\", 'underestimate', 'india', '!', '!']\n",
            "\n",
            "Sent-tokenized Data:\n",
            "\n",
            " ['#OnThisDay in 2️⃣0️⃣1️⃣2️⃣, \\n@imVkohli\\n brought up his 1️2th ODI ton, scoring a fine 1️⃣0️⃣6️⃣ (113) to help 🇮🇳 amass 3️⃣1️⃣4️⃣ against Sri Lanka at Hambanota.', '🔝💥\\n Congratulations to #TeamIndia on winning the ODI series.', 'Keep up the good work and continue this form.', 'Special mention to \\n@RishabhPant17\\n and \\n@hardikpandya7\\n for a wonderful performance.', \"Don't underestimate india!\", '!']\n",
            "\n",
            "Word-punct tokenized Data:\n",
            "\n",
            " ['#', 'OnThisDay', 'in', '2', '️⃣', '0', '️⃣', '1', '️⃣', '2', '️⃣,', '@', 'imVkohli', 'brought', 'up', 'his', '1', '️', '2th', 'ODI', 'ton', ',', 'scoring', 'a', 'fine', '1', '️⃣', '0', '️⃣', '6', '️⃣', '(', '113', ')', 'to', 'help', '🇮🇳', 'amass', '3', '️⃣', '1', '️⃣', '4', '️⃣', 'against', 'Sri', 'Lanka', 'at', 'Hambanota', '.', '🔝💥', 'Congratulations', 'to', '#', 'TeamIndia', 'on', 'winning', 'the', 'ODI', 'series', '.', 'Keep', 'up', 'the', 'good', 'work', 'and', 'continue', 'this', 'form', '.', 'Special', 'mention', 'to', '@', 'RishabhPant17', 'and', '@', 'hardikpandya7', 'for', 'a', 'wonderful', 'performance', '.', 'Don', \"'\", 't', 'underestimate', 'india', '!!']\n",
            "\n",
            "TreeBank tokenized Data:\n",
            "\n",
            " ['#', 'OnThisDay', 'in', '2️⃣0️⃣1️⃣2️⃣', ',', '@', 'imVkohli', 'brought', 'up', 'his', '1️2th', 'ODI', 'ton', ',', 'scoring', 'a', 'fine', '1️⃣0️⃣6️⃣', '(', '113', ')', 'to', 'help', '🇮🇳', 'amass', '3️⃣1️⃣4️⃣', 'against', 'Sri', 'Lanka', 'at', 'Hambanota.', '🔝💥', 'Congratulations', 'to', '#', 'TeamIndia', 'on', 'winning', 'the', 'ODI', 'series.', 'Keep', 'up', 'the', 'good', 'work', 'and', 'continue', 'this', 'form.', 'Special', 'mention', 'to', '@', 'RishabhPant17', 'and', '@', 'hardikpandya7', 'for', 'a', 'wonderful', 'performance.', 'Do', \"n't\", 'underestimate', 'india', '!', '!']\n",
            "381\n"
          ]
        }
      ]
    },
    {
      "cell_type": "code",
      "source": [
        "import nltk\n",
        "from nltk.tokenize import TweetTokenizer\n",
        "tokenizer = TweetTokenizer()\n",
        "print(\"\\nTweet tokenized Data:\\n\\n\", tokenizer.tokenize(text))"
      ],
      "metadata": {
        "colab": {
          "base_uri": "https://localhost:8080/"
        },
        "id": "QG92c1WALkL5",
        "outputId": "e1efbd6a-3fa7-4718-f40f-527c386bd187"
      },
      "execution_count": null,
      "outputs": [
        {
          "output_type": "stream",
          "name": "stdout",
          "text": [
            "\n",
            "Tweet tokenized Data:\n",
            "\n",
            " ['#OnThisDay', 'in', '2️⃣0️⃣1️⃣2️⃣', ',', '@imVkohli', 'brought', 'up', 'his', '1️2th', 'ODI', 'ton', ',', 'scoring', 'a', 'fine', '1️⃣0️⃣6️⃣', '(', '113', ')', 'to', 'help', '🇮', '🇳', 'amass', '3️⃣1️⃣4️⃣', 'against', 'Sri', 'Lanka', 'at', 'Hambanota', '.', '🔝', '💥', 'Congratulations', 'to', '#TeamIndia', 'on', 'winning', 'the', 'ODI', 'series', '.', 'Keep', 'up', 'the', 'good', 'work', 'and', 'continue', 'this', 'form', '.', 'Special', 'mention', 'to', '@RishabhPant17', 'and', '@hardikpandya7', 'for', 'a', 'wonderful', 'performance', '.', \"Don't\", 'underestimate', 'india', '!', '!']\n"
          ]
        }
      ]
    },
    {
      "cell_type": "code",
      "source": [
        ""
      ],
      "metadata": {
        "id": "v2F1vFA9O9kG"
      },
      "execution_count": null,
      "outputs": []
    },
    {
      "cell_type": "markdown",
      "source": [
        "mwet tokeniser\n"
      ],
      "metadata": {
        "id": "jm9GvBNC9ElM"
      }
    },
    {
      "cell_type": "code",
      "source": [
        "import nltk\n",
        "from nltk.tokenize import MWETokenizer\n",
        "tokenizer = MWETokenizer()\n",
        "print(\"\\nMWET tokenized Data:\\n\\n\", tokenizer.tokenize(text))"
      ],
      "metadata": {
        "colab": {
          "base_uri": "https://localhost:8080/"
        },
        "id": "FuVH7SEQ5ulU",
        "outputId": "7d542bb6-36f1-4b24-c454-702ba49f68ed"
      },
      "execution_count": null,
      "outputs": [
        {
          "output_type": "stream",
          "name": "stdout",
          "text": [
            "\n",
            "MWET tokenized Data:\n",
            "\n",
            " ['#', 'O', 'n', 'T', 'h', 'i', 's', 'D', 'a', 'y', ' ', 'i', 'n', ' ', '2', '️', '⃣', '0', '️', '⃣', '1', '️', '⃣', '2', '️', '⃣', ',', ' ', '\\n', '@', 'i', 'm', 'V', 'k', 'o', 'h', 'l', 'i', '\\n', ' ', 'b', 'r', 'o', 'u', 'g', 'h', 't', ' ', 'u', 'p', ' ', 'h', 'i', 's', ' ', '1', '️', '2', 't', 'h', ' ', 'O', 'D', 'I', ' ', 't', 'o', 'n', ',', ' ', 's', 'c', 'o', 'r', 'i', 'n', 'g', ' ', 'a', ' ', 'f', 'i', 'n', 'e', ' ', '1', '️', '⃣', '0', '️', '⃣', '6', '️', '⃣', ' ', '(', '1', '1', '3', ')', ' ', 't', 'o', ' ', 'h', 'e', 'l', 'p', ' ', '🇮', '🇳', ' ', 'a', 'm', 'a', 's', 's', ' ', '3', '️', '⃣', '1', '️', '⃣', '4', '️', '⃣', ' ', 'a', 'g', 'a', 'i', 'n', 's', 't', ' ', 'S', 'r', 'i', ' ', 'L', 'a', 'n', 'k', 'a', ' ', 'a', 't', ' ', 'H', 'a', 'm', 'b', 'a', 'n', 'o', 't', 'a', '.', ' ', '🔝', '💥', '\\n', ' ', 'C', 'o', 'n', 'g', 'r', 'a', 't', 'u', 'l', 'a', 't', 'i', 'o', 'n', 's', ' ', 't', 'o', ' ', '#', 'T', 'e', 'a', 'm', 'I', 'n', 'd', 'i', 'a', ' ', 'o', 'n', ' ', 'w', 'i', 'n', 'n', 'i', 'n', 'g', ' ', 't', 'h', 'e', ' ', 'O', 'D', 'I', ' ', 's', 'e', 'r', 'i', 'e', 's', '.', ' ', 'K', 'e', 'e', 'p', ' ', 'u', 'p', ' ', 't', 'h', 'e', ' ', 'g', 'o', 'o', 'd', ' ', 'w', 'o', 'r', 'k', ' ', 'a', 'n', 'd', ' ', 'c', 'o', 'n', 't', 'i', 'n', 'u', 'e', ' ', 't', 'h', 'i', 's', ' ', 'f', 'o', 'r', 'm', '.', ' ', 'S', 'p', 'e', 'c', 'i', 'a', 'l', ' ', 'm', 'e', 'n', 't', 'i', 'o', 'n', ' ', 't', 'o', ' ', '\\n', '@', 'R', 'i', 's', 'h', 'a', 'b', 'h', 'P', 'a', 'n', 't', '1', '7', '\\n', ' ', 'a', 'n', 'd', ' ', '\\n', '@', 'h', 'a', 'r', 'd', 'i', 'k', 'p', 'a', 'n', 'd', 'y', 'a', '7', '\\n', ' ', 'f', 'o', 'r', ' ', 'a', ' ', 'w', 'o', 'n', 'd', 'e', 'r', 'f', 'u', 'l', ' ', 'p', 'e', 'r', 'f', 'o', 'r', 'm', 'a', 'n', 'c', 'e', '.', ' ', 'D', 'o', 'n', \"'\", 't', ' ', 'u', 'n', 'd', 'e', 'r', 'e', 's', 't', 'i', 'm', 'a', 't', 'e', ' ', 'i', 'n', 'd', 'i', 'a', '!', '!', '\\n']\n"
          ]
        }
      ]
    },
    {
      "cell_type": "markdown",
      "source": [
        ""
      ],
      "metadata": {
        "id": "vD650TCD9Bvn"
      }
    },
    {
      "cell_type": "markdown",
      "source": [
        "# Lab 2 - Stopwords"
      ],
      "metadata": {
        "id": "ZtQ9m6qg7XDi"
      }
    },
    {
      "cell_type": "code",
      "source": [
        "import nltk\n",
        "from nltk.corpus import stopwords\n",
        "nltk.download('stopwords')\n",
        "nltk.download('punkt')\n",
        "from nltk.tokenize import word_tokenize\n",
        "from nltk.probability import FreqDist\n",
        "\n",
        "\n",
        "example_sent = \"This is a sample sentence,and sentence has stop words.\"\n",
        "\n",
        "stop_words = set(stopwords.words('english'))\n",
        "\n",
        "word_tokens = word_tokenize(example_sent)\n",
        "\n",
        "filtered_sentence = [w for w in word_tokens if not w in stop_words]\n",
        "\n",
        "filtered_sentence = []\n",
        "\n",
        "for w in word_tokens:\n",
        "    if w not in stop_words:\n",
        "        filtered_sentence.append(w)\n",
        "\n",
        "print(filtered_sentence)\n",
        "\n",
        "\n",
        "wordfreq = []\n",
        "for w in filtered_sentence:\n",
        "    wordfreq.append(filtered_sentence.count(w))\n",
        "\n",
        "print(filtered_sentence,wordfreq)\n"
      ],
      "metadata": {
        "colab": {
          "base_uri": "https://localhost:8080/"
        },
        "id": "29Npf5CTxPnl",
        "outputId": "e8efcffe-a33d-44e9-aa2e-684d4b037f0b"
      },
      "execution_count": null,
      "outputs": [
        {
          "output_type": "stream",
          "name": "stderr",
          "text": [
            "[nltk_data] Downloading package stopwords to /root/nltk_data...\n",
            "[nltk_data]   Unzipping corpora/stopwords.zip.\n",
            "[nltk_data] Downloading package punkt to /root/nltk_data...\n",
            "[nltk_data]   Unzipping tokenizers/punkt.zip.\n"
          ]
        },
        {
          "output_type": "stream",
          "name": "stdout",
          "text": [
            "['This', 'sample', 'sentence', ',', 'sentence', 'stop', 'words', '.']\n",
            "['This', 'sample', 'sentence', ',', 'sentence', 'stop', 'words', '.'] [1, 1, 2, 1, 2, 1, 1, 1]\n"
          ]
        }
      ]
    },
    {
      "cell_type": "markdown",
      "source": [
        "Lab2 stop words final"
      ],
      "metadata": {
        "id": "YsIR2r3c8M94"
      }
    },
    {
      "cell_type": "code",
      "source": [
        "#importing nltk and resemebling a sentence in cricket\n",
        "\n",
        "import nltk\n",
        "import pandas as pd\n",
        "import seaborn as sns\n",
        "import matplotlib.pyplot as plt\n",
        "\n",
        "nltk.download('stopwords')\n",
        "nltk.download('punkt')\n",
        "from nltk.corpus import stopwords\n",
        "from nltk.tokenize import word_tokenize\n",
        "from nltk.probability import FreqDist\n",
        "\n",
        "example_sent = '''#OnThisDay in 2️⃣0️⃣1️⃣2️⃣, \n",
        "@imVkohli\n",
        " brought up his 1️2th ODI ton, scoring a fine 1️⃣0️⃣6️⃣ (113) to help 🇮🇳 amass 3️⃣1️⃣4️⃣ against Sri Lanka at Hambanota. 🔝💥\n",
        " Congratulations to #TeamIndia on winning the ODI series. Keep up the good work and continue this form. Special mention to \n",
        "@RishabhPant17\n",
        " and \n",
        "@hardikpandya7\n",
        " for a wonderful performance. Don't underestimate india!!\\n'''\n",
        "\n",
        "final_words = nltk.word_tokenize(example_sent)\n",
        "new_words= [word for word in final_words if word.isalnum()]\n",
        "\n",
        "print(\"final words>>>>>>>>>\", new_words)\n",
        "\n",
        "# Python program to convert a list\n",
        "# to string using list comprehension\n",
        "\n",
        "# using list comprehension\n",
        "listToStr = ' '.join([str(elem) for elem in new_words])\n",
        "\n",
        "print(\"string conversion>>>>>\",listToStr)\n",
        "\n",
        "#“the”, “is” and “and”, would easily qualify as stop words (removing)\n",
        "\n",
        "stop_words = set(stopwords.words('english'))\n",
        "\n",
        "#Creating tokenzier with NLTK\n",
        "\n",
        "word_tokens = word_tokenize(listToStr)\n",
        "\n",
        "#displaying the sentence after removing stop words\n",
        "\n",
        "filtered_sentence = [w for w in word_tokens if not w in stop_words]\n",
        "filtered_sentence = []\n",
        "\n",
        "for w in word_tokens:\n",
        "    if w not in stop_words:\n",
        "        filtered_sentence.append(w)\n",
        "\n",
        "print(filtered_sentence) \n",
        "\n",
        "#count of words after filtering the sentences\n",
        "\n",
        "wordfreq = []\n",
        "for w in filtered_sentence:\n",
        "    wordfreq.append(filtered_sentence.count(w))\n",
        "\n",
        "FreqDist(filtered_sentence)\n",
        "filtered_sentence\n",
        "\n",
        "for i in filtered_sentence:\n",
        " print(i, '-----', wordfreq[filtered_sentence.index(i)])\n",
        "\n",
        "all_fdist = pd.Series(wordfreq)\n",
        "\n",
        "fig, ax = plt.subplots(figsize=(30,10))\n",
        "all_plot = sns.barplot(x=filtered_sentence, y=all_fdist.values, ax=ax)\n",
        "plt.xticks(rotation=50);\n",
        "\n",
        " "
      ],
      "metadata": {
        "id": "DjSyTRYh8LxP",
        "colab": {
          "base_uri": "https://localhost:8080/",
          "height": 1000
        },
        "outputId": "24e5dcac-5235-4e68-ddb5-1d54e57657d7"
      },
      "execution_count": null,
      "outputs": [
        {
          "output_type": "stream",
          "name": "stderr",
          "text": [
            "[nltk_data] Downloading package stopwords to /root/nltk_data...\n",
            "[nltk_data]   Package stopwords is already up-to-date!\n",
            "[nltk_data] Downloading package punkt to /root/nltk_data...\n",
            "[nltk_data]   Package punkt is already up-to-date!\n"
          ]
        },
        {
          "output_type": "stream",
          "name": "stdout",
          "text": [
            "final words>>>>>>>>> ['OnThisDay', 'in', 'imVkohli', 'brought', 'up', 'his', 'ODI', 'ton', 'scoring', 'a', 'fine', '113', 'to', 'help', 'amass', 'against', 'Sri', 'Lanka', 'at', 'Hambanota', 'Congratulations', 'to', 'TeamIndia', 'on', 'winning', 'the', 'ODI', 'series', 'Keep', 'up', 'the', 'good', 'work', 'and', 'continue', 'this', 'form', 'Special', 'mention', 'to', 'RishabhPant17', 'and', 'hardikpandya7', 'for', 'a', 'wonderful', 'performance', 'Do', 'underestimate', 'india']\n",
            "string conversion>>>>> OnThisDay in imVkohli brought up his ODI ton scoring a fine 113 to help amass against Sri Lanka at Hambanota Congratulations to TeamIndia on winning the ODI series Keep up the good work and continue this form Special mention to RishabhPant17 and hardikpandya7 for a wonderful performance Do underestimate india\n",
            "['OnThisDay', 'imVkohli', 'brought', 'ODI', 'ton', 'scoring', 'fine', '113', 'help', 'amass', 'Sri', 'Lanka', 'Hambanota', 'Congratulations', 'TeamIndia', 'winning', 'ODI', 'series', 'Keep', 'good', 'work', 'continue', 'form', 'Special', 'mention', 'RishabhPant17', 'hardikpandya7', 'wonderful', 'performance', 'Do', 'underestimate', 'india']\n",
            "OnThisDay ----- 1\n",
            "imVkohli ----- 1\n",
            "brought ----- 1\n",
            "ODI ----- 2\n",
            "ton ----- 1\n",
            "scoring ----- 1\n",
            "fine ----- 1\n",
            "113 ----- 1\n",
            "help ----- 1\n",
            "amass ----- 1\n",
            "Sri ----- 1\n",
            "Lanka ----- 1\n",
            "Hambanota ----- 1\n",
            "Congratulations ----- 1\n",
            "TeamIndia ----- 1\n",
            "winning ----- 1\n",
            "ODI ----- 2\n",
            "series ----- 1\n",
            "Keep ----- 1\n",
            "good ----- 1\n",
            "work ----- 1\n",
            "continue ----- 1\n",
            "form ----- 1\n",
            "Special ----- 1\n",
            "mention ----- 1\n",
            "RishabhPant17 ----- 1\n",
            "hardikpandya7 ----- 1\n",
            "wonderful ----- 1\n",
            "performance ----- 1\n",
            "Do ----- 1\n",
            "underestimate ----- 1\n",
            "india ----- 1\n"
          ]
        },
        {
          "output_type": "display_data",
          "data": {
            "text/plain": [
              "<Figure size 2160x720 with 1 Axes>"
            ],
            "image/png": "[encoded data removed]"
          },
          "metadata": {
            "needs_background": "light"
          }
        }
      ]
    },
    {
      "cell_type": "markdown",
      "source": [
        "# Lab 3 - tokenize Non-English Languages using NLTK."
      ],
      "metadata": {
        "id": "X97hd52p9Gf9"
      }
    },
    {
      "cell_type": "markdown",
      "source": [
        "lab program 3"
      ],
      "metadata": {
        "id": "Q7eqeyixgiJq"
      }
    },
    {
      "cell_type": "code",
      "source": [
        "#lab program 3\n",
        "\n",
        "#importing nltk and resemebling a sentence in cricket\n",
        "#1. Spanish\n",
        "\n",
        "import nltk\n",
        "import pandas as pd\n",
        "import seaborn as sns\n",
        "import matplotlib.pyplot as plt\n",
        "\n",
        "nltk.download('stopwords')\n",
        "nltk.download('punkt')\n",
        "from nltk.corpus import stopwords\n",
        "from nltk.tokenize import word_tokenize\n",
        "from nltk.probability import FreqDist\n",
        "\n",
        "example_sent = '''Alzarri!! Joseph a Shreyas Iyer, ¡SEIS! ¡Todo el camino! Shreyas Iyer ahora entra en acción. \\n\n",
        "Longitud más completa, exterior apagado. Es media volea. Shreyas Iyer lo golpea sobre la cerca larga y ancha para un máximo'''\n",
        "\n",
        "final_words = nltk.word_tokenize(example_sent)\n",
        "new_words= [word for word in final_words if word.isalnum()]\n",
        "\n",
        "print(\"final words>>>>>>>>>\", new_words)\n",
        "\n",
        "# Python program to convert a list\n",
        "# to string using list comprehension\n",
        "\n",
        "# using list comprehension\n",
        "listToStr = ' '.join([str(elem) for elem in new_words])\n",
        "\n",
        "print(\"string conversion>>>>>\",listToStr)\n",
        "\n",
        "#“the”, “is” and “and”, would easily qualify as stop words (removing)\n",
        "\n",
        "stop_words = set(stopwords.words('spanish'))\n",
        "\n",
        "#Creating tokenzier with NLTK\n",
        "\n",
        "word_tokens = word_tokenize(listToStr)\n",
        "\n",
        "#displaying the sentence after removing stop words\n",
        "\n",
        "filtered_sentence = [w for w in word_tokens if not w in stop_words]\n",
        "filtered_sentence = []\n",
        "\n",
        "for w in word_tokens:\n",
        "    if w not in stop_words:\n",
        "        filtered_sentence.append(w)\n",
        "\n",
        "print(filtered_sentence) \n",
        "\n",
        "#count of words after filtering the sentences\n",
        "\n",
        "wordfreq = []\n",
        "for w in filtered_sentence:\n",
        "    wordfreq.append(filtered_sentence.count(w))\n",
        "\n",
        "FreqDist(filtered_sentence)\n",
        "filtered_sentence\n",
        "\n",
        "for i in filtered_sentence:\n",
        " print(i, '-----', wordfreq[filtered_sentence.index(i)])\n",
        "\n",
        "all_fdist = pd.Series(wordfreq)\n",
        "\n",
        "fig, ax = plt.subplots(figsize=(30,10))\n",
        "all_plot = sns.barplot(x=filtered_sentence, y=all_fdist.values, ax=ax)\n",
        "plt.xticks(rotation=30);\n",
        "\n"
      ],
      "metadata": {
        "id": "c-o2Nrc6Not0",
        "colab": {
          "base_uri": "https://localhost:8080/",
          "height": 818
        },
        "outputId": "24ec8478-5dd0-4ada-a735-077bbf9e7bf3"
      },
      "execution_count": null,
      "outputs": [
        {
          "output_type": "stream",
          "name": "stderr",
          "text": [
            "[nltk_data] Downloading package stopwords to /root/nltk_data...\n",
            "[nltk_data]   Package stopwords is already up-to-date!\n",
            "[nltk_data] Downloading package punkt to /root/nltk_data...\n",
            "[nltk_data]   Package punkt is already up-to-date!\n"
          ]
        },
        {
          "output_type": "stream",
          "name": "stdout",
          "text": [
            "final words>>>>>>>>> ['Alzarri', '121', 'Joseph', 'a', 'Shreyas', 'Iyer', 'el', 'camino', 'Shreyas', 'Iyer', 'ahora', 'entra', 'en', 'acción', 'Longitud', 'más', 'completa', 'exterior', 'apagado', 'Es', 'media', 'volea', 'Shreyas', 'Iyer', 'lo', 'golpea', 'sobre', 'la', 'cerca', 'larga', 'y', 'ancha', 'para', 'un', 'máximo']\n",
            "string conversion>>>>> Alzarri 121 Joseph a Shreyas Iyer el camino Shreyas Iyer ahora entra en acción Longitud más completa exterior apagado Es media volea Shreyas Iyer lo golpea sobre la cerca larga y ancha para un máximo\n",
            "['Alzarri', '121', 'Joseph', 'Shreyas', 'Iyer', 'camino', 'Shreyas', 'Iyer', 'ahora', 'entra', 'acción', 'Longitud', 'completa', 'exterior', 'apagado', 'Es', 'media', 'volea', 'Shreyas', 'Iyer', 'golpea', 'cerca', 'larga', 'ancha', 'máximo']\n",
            "Alzarri ----- 1\n",
            "121 ----- 1\n",
            "Joseph ----- 1\n",
            "Shreyas ----- 3\n",
            "Iyer ----- 3\n",
            "camino ----- 1\n",
            "Shreyas ----- 3\n",
            "Iyer ----- 3\n",
            "ahora ----- 1\n",
            "entra ----- 1\n",
            "acción ----- 1\n",
            "Longitud ----- 1\n",
            "completa ----- 1\n",
            "exterior ----- 1\n",
            "apagado ----- 1\n",
            "Es ----- 1\n",
            "media ----- 1\n",
            "volea ----- 1\n",
            "Shreyas ----- 3\n",
            "Iyer ----- 3\n",
            "golpea ----- 1\n",
            "cerca ----- 1\n",
            "larga ----- 1\n",
            "ancha ----- 1\n",
            "máximo ----- 1\n"
          ]
        },
        {
          "output_type": "display_data",
          "data": {
            "text/plain": [
              "<Figure size 2160x720 with 1 Axes>"
            ],
            "image/png": "[encoded data removed]"
          },
          "metadata": {
            "needs_background": "light"
          }
        }
      ]
    },
    {
      "cell_type": "code",
      "source": [
        "#lab program 3\n",
        "\n",
        "#importing nltk and resemebling a sentence in cricket\n",
        "#2. German\n",
        "\n",
        "import nltk\n",
        "import pandas as pd\n",
        "import seaborn as sns\n",
        "import matplotlib.pyplot as plt\n",
        "\n",
        "nltk.download('stopwords')\n",
        "nltk.download('punkt')\n",
        "from nltk.corpus import stopwords\n",
        "from nltk.tokenize import word_tokenize\n",
        "from nltk.probability import FreqDist\n",
        "\n",
        "example_sent = '''Alzarri Joseph an Shreyas Iyer, SECHS! Den ganzen Weg! Jetzt kommt Shreyas Iyer ins Spiel. Vollere Länge, außen ab.\\n\n",
        "Es ist ein halber Volleyschuss. Shreyas Iyer tonk es über den breiten Zaun für ein Maximum.'''\n",
        "\n",
        "final_words = nltk.word_tokenize(example_sent)\n",
        "new_words= [word for word in final_words if word.isalnum()]\n",
        "\n",
        "print(\"final words>>>>>>>>>\", new_words)\n",
        "\n",
        "# Python program to convert a list\n",
        "# to string using list comprehension\n",
        "\n",
        "# using list comprehension\n",
        "listToStr = ' '.join([str(elem) for elem in new_words])\n",
        "\n",
        "print(\"string conversion>>>>>\",listToStr)\n",
        "\n",
        "#“the”, “is” and “and”, would easily qualify as stop words (removing)\n",
        "\n",
        "stop_words = set(stopwords.words('german'))\n",
        "\n",
        "#Creating tokenzier with NLTK\n",
        "\n",
        "word_tokens = word_tokenize(listToStr)\n",
        "\n",
        "#displaying the sentence after removing stop words\n",
        "\n",
        "filtered_sentence = [w for w in word_tokens if not w in stop_words]\n",
        "filtered_sentence = []\n",
        "\n",
        "for w in word_tokens:\n",
        "    if w not in stop_words:\n",
        "        filtered_sentence.append(w)\n",
        "\n",
        "print(filtered_sentence) \n",
        "\n",
        "#count of words after filtering the sentences\n",
        "\n",
        "wordfreq = []\n",
        "for w in filtered_sentence:\n",
        "    wordfreq.append(filtered_sentence.count(w))\n",
        "\n",
        "FreqDist(filtered_sentence)\n",
        "filtered_sentence\n",
        "\n",
        "for i in filtered_sentence:\n",
        " print(i, '-----', wordfreq[filtered_sentence.index(i)])\n",
        "\n",
        "all_fdist = pd.Series(wordfreq)\n",
        "\n",
        "fig, ax = plt.subplots(figsize=(30,10))\n",
        "all_plot = sns.barplot(x=filtered_sentence, y=all_fdist.values, ax=ax)\n",
        "plt.xticks(rotation=50);\n",
        "\n",
        "\n"
      ],
      "metadata": {
        "colab": {
          "base_uri": "https://localhost:8080/",
          "height": 1000
        },
        "id": "_CRMGwPej8zh",
        "outputId": "2fff46b2-c1d8-4770-f11c-daa728bdfdbd"
      },
      "execution_count": null,
      "outputs": [
        {
          "output_type": "stream",
          "name": "stderr",
          "text": [
            "[nltk_data] Downloading package stopwords to /root/nltk_data...\n",
            "[nltk_data]   Package stopwords is already up-to-date!\n",
            "[nltk_data] Downloading package punkt to /root/nltk_data...\n",
            "[nltk_data]   Package punkt is already up-to-date!\n"
          ]
        },
        {
          "output_type": "stream",
          "name": "stdout",
          "text": [
            "final words>>>>>>>>> ['Alzarri', 'Joseph', 'an', 'Shreyas', 'Iyer', 'SECHS', 'Den', 'ganzen', 'Weg', 'Jetzt', 'kommt', 'Shreyas', 'Iyer', 'ins', 'Spiel', 'Vollere', 'Länge', 'außen', 'ab', 'Es', 'ist', 'ein', 'halber', 'Volleyschuss', 'Shreyas', 'Iyer', 'tonk', 'es', 'über', 'den', 'breiten', 'Zaun', 'für', 'ein', 'Maximum']\n",
            "string conversion>>>>> Alzarri Joseph an Shreyas Iyer SECHS Den ganzen Weg Jetzt kommt Shreyas Iyer ins Spiel Vollere Länge außen ab Es ist ein halber Volleyschuss Shreyas Iyer tonk es über den breiten Zaun für ein Maximum\n",
            "['Alzarri', 'Joseph', 'Shreyas', 'Iyer', 'SECHS', 'Den', 'ganzen', 'Weg', 'Jetzt', 'kommt', 'Shreyas', 'Iyer', 'Spiel', 'Vollere', 'Länge', 'außen', 'ab', 'Es', 'halber', 'Volleyschuss', 'Shreyas', 'Iyer', 'tonk', 'breiten', 'Zaun', 'Maximum']\n",
            "Alzarri ----- 1\n",
            "Joseph ----- 1\n",
            "Shreyas ----- 3\n",
            "Iyer ----- 3\n",
            "SECHS ----- 1\n",
            "Den ----- 1\n",
            "ganzen ----- 1\n",
            "Weg ----- 1\n",
            "Jetzt ----- 1\n",
            "kommt ----- 1\n",
            "Shreyas ----- 3\n",
            "Iyer ----- 3\n",
            "Spiel ----- 1\n",
            "Vollere ----- 1\n",
            "Länge ----- 1\n",
            "außen ----- 1\n",
            "ab ----- 1\n",
            "Es ----- 1\n",
            "halber ----- 1\n",
            "Volleyschuss ----- 1\n",
            "Shreyas ----- 3\n",
            "Iyer ----- 3\n",
            "tonk ----- 1\n",
            "breiten ----- 1\n",
            "Zaun ----- 1\n",
            "Maximum ----- 1\n"
          ]
        },
        {
          "output_type": "display_data",
          "data": {
            "text/plain": [
              "<Figure size 2160x720 with 1 Axes>"
            ],
            "image/png": "[encoded data removed]"
          },
          "metadata": {
            "needs_background": "light"
          }
        }
      ]
    },
    {
      "cell_type": "code",
      "source": [
        "#lab program 3\n",
        "\n",
        "#importing nltk and resemebling a sentence in cricket\n",
        "#3. French\n",
        "\n",
        "import nltk\n",
        "import pandas as pd\n",
        "import seaborn as sns\n",
        "import matplotlib.pyplot as plt\n",
        "\n",
        "nltk.download('stopwords')\n",
        "nltk.download('punkt')\n",
        "from nltk.corpus import stopwords\n",
        "from nltk.tokenize import word_tokenize\n",
        "from nltk.probability import FreqDist\n",
        "\n",
        "example_sent = '''Alzarri Joseph à Shreyas Iyer, SIX ! Tout le! Shreyas Iyer entre maintenant en scène. \n",
        "Plus longue, à l'extérieur. C'est une demi-volée. Shreyas Iyer le frappe sur la longue clôture pour un maximum.'''\n",
        "\n",
        "final_words = nltk.word_tokenize(example_sent)\n",
        "new_words= [word for word in final_words if word.isalnum()]\n",
        "\n",
        "print(\"final words>>>>>>>>>\", new_words)\n",
        "\n",
        "# Python program to convert a list\n",
        "# to string using list comprehension\n",
        "\n",
        "# using list comprehension\n",
        "listToStr = ' '.join([str(elem) for elem in new_words])\n",
        "\n",
        "print(\"string conversion>>>>>\",listToStr)\n",
        "\n",
        "#“the”, “is” and “and”, would easily qualify as stop words (removing)\n",
        "\n",
        "stop_words = set(stopwords.words('french'))\n",
        "\n",
        "#Creating tokenzier with NLTK\n",
        "\n",
        "word_tokens = word_tokenize(listToStr)\n",
        "\n",
        "#displaying the sentence after removing stop words\n",
        "\n",
        "filtered_sentence = [w for w in word_tokens if not w in stop_words]\n",
        "filtered_sentence = []\n",
        "\n",
        "for w in word_tokens:\n",
        "    if w not in stop_words:\n",
        "        filtered_sentence.append(w)\n",
        "\n",
        "print(filtered_sentence) \n",
        "\n",
        "#count of words after filtering the sentences\n",
        "\n",
        "wordfreq = []\n",
        "for w in filtered_sentence:\n",
        "    wordfreq.append(filtered_sentence.count(w))\n",
        "\n",
        "FreqDist(filtered_sentence)\n",
        "filtered_sentence\n",
        "\n",
        "for i in filtered_sentence:\n",
        " print(i, '-----', wordfreq[filtered_sentence.index(i)])\n",
        "\n",
        "all_fdist = pd.Series(wordfreq)\n",
        "\n",
        "fig, ax = plt.subplots(figsize=(30,10))\n",
        "all_plot = sns.barplot(x=filtered_sentence, y=all_fdist.values, ax=ax)\n",
        "plt.xticks(rotation=50);\n"
      ],
      "metadata": {
        "colab": {
          "base_uri": "https://localhost:8080/",
          "height": 888
        },
        "id": "Ipq3Y_3ilPT0",
        "outputId": "fa7e262a-a233-4bf6-efc9-da12cd52cd6b"
      },
      "execution_count": null,
      "outputs": [
        {
          "output_type": "stream",
          "name": "stderr",
          "text": [
            "[nltk_data] Downloading package stopwords to /root/nltk_data...\n",
            "[nltk_data]   Package stopwords is already up-to-date!\n",
            "[nltk_data] Downloading package punkt to /root/nltk_data...\n",
            "[nltk_data]   Package punkt is already up-to-date!\n"
          ]
        },
        {
          "output_type": "stream",
          "name": "stdout",
          "text": [
            "final words>>>>>>>>> ['Alzarri', 'Joseph', 'à', 'Shreyas', 'Iyer', 'SIX', 'Tout', 'le', 'Shreyas', 'Iyer', 'entre', 'maintenant', 'en', 'scène', 'Plus', 'longue', 'à', 'une', 'Shreyas', 'Iyer', 'le', 'frappe', 'sur', 'la', 'longue', 'clôture', 'pour', 'un', 'maximum']\n",
            "string conversion>>>>> Alzarri Joseph à Shreyas Iyer SIX Tout le Shreyas Iyer entre maintenant en scène Plus longue à une Shreyas Iyer le frappe sur la longue clôture pour un maximum\n",
            "['Alzarri', 'Joseph', 'Shreyas', 'Iyer', 'SIX', 'Tout', 'Shreyas', 'Iyer', 'entre', 'maintenant', 'scène', 'Plus', 'longue', 'Shreyas', 'Iyer', 'frappe', 'longue', 'clôture', 'maximum']\n",
            "Alzarri ----- 1\n",
            "Joseph ----- 1\n",
            "Shreyas ----- 3\n",
            "Iyer ----- 3\n",
            "SIX ----- 1\n",
            "Tout ----- 1\n",
            "Shreyas ----- 3\n",
            "Iyer ----- 3\n",
            "entre ----- 1\n",
            "maintenant ----- 1\n",
            "scène ----- 1\n",
            "Plus ----- 1\n",
            "longue ----- 2\n",
            "Shreyas ----- 3\n",
            "Iyer ----- 3\n",
            "frappe ----- 1\n",
            "longue ----- 2\n",
            "clôture ----- 1\n",
            "maximum ----- 1\n"
          ]
        },
        {
          "output_type": "display_data",
          "data": {
            "text/plain": [
              "<Figure size 2160x720 with 1 Axes>"
            ],
            "image/png": "[encoded data removed]"
          },
          "metadata": {
            "needs_background": "light"
          }
        }
      ]
    },
    {
      "cell_type": "code",
      "source": [
        "#lab program 3\n",
        "#4. Tamil\n",
        "\n",
        "# Importing python string function\n",
        "import string     \n",
        "import nltk\n",
        "import pandas as pd\n",
        "import seaborn as sns\n",
        "import matplotlib.pyplot as plt\n",
        "\n",
        "nltk.download('stopwords')\n",
        "nltk.download('punkt')\n",
        "from nltk.corpus import stopwords\n",
        "from nltk.tokenize import word_tokenize\n",
        "from nltk.probability import FreqDist\n",
        "# Printing Inbuilt punctuation function\n",
        "print(string.punctuation)   \n",
        "\n",
        "# Function for removing punctuation\n",
        "def punctuation_remove(text_data): \n",
        "    # Appending non punctuated words\n",
        "    punctuation =\"\".join([t for t in text_data if t not in string.punctuation])  \n",
        "    return punctuation\n",
        "  \n",
        "# Passing input to the function\n",
        "punctuation_removed = punctuation_remove(\"ஒருநாள்!@!\"\" கிரிக்கெட் தொடர் மற்றும் முதல் டி20 போட்டி ட்ரினிட்டாட்டில் நடைபெற்றது. ஆனால் 2வது மற்றும் 3வது டி20 போட்டிகள் செயிண்ட் கிட்ஸில் உள்ள வார்னர் பார்க் மைதானத்தில் நடைபெறும் என அறிவிக்கப்பட்டிருந்தது. இதற்காக இரு அணி வீரர்களும் நேற்றே அங்கு சென்றடைந்தனர். போட்டி இன்று இரவு 8 மணிக்கு வழக்கம் போல் தொடங்கும் என அறிவித்தனர்\") \n",
        "print(punctuation_removed)\n",
        "\n",
        "# importing python regular expression module\n",
        "import re    \n",
        "  \n",
        "# Function for tokenization\n",
        "def tokenization(text_data):\n",
        "   # Splitting the sentence into words where space is found.\n",
        "   tokens_text = re.split(' ',text_data)      \n",
        "   return tokens_text\n",
        "    \n",
        "    \n",
        "# Passing the punctuation removed text as parameter for tokenization  \n",
        "tokenized_text = tokenization(punctuation_removed)  \n",
        "print(\"tokenized words>>>>>\",tokenized_text)\n",
        "\n",
        "# Importing Natural Language Toolkit python library\n",
        "import nltk\n",
        "\n",
        "# Storing all the Tamil stop words in the variable retrieved from the file ‘tamil’\n",
        "stopwords = nltk.corpus.stopwords.words('/root/nltk_data/corpora/stopwords/tamil.txt')\n",
        "\n",
        "# Function for removing stop words\n",
        "def stopwords_remove(text_data):\n",
        "\t# Appending words which are not stop words\n",
        "\tremoved= [s for s in text_data if s not in stopwords]\n",
        "\treturn removed\n",
        "\n",
        "# Passing tokenized text as parameter for removing stop words\n",
        "stopwords_removed = stopwords_remove(tokenized_text)\n",
        "print(\"Stopwords removed>>>>>>>\",stopwords_removed)\n",
        "\n",
        "#count of words after filtering the sentences\n",
        "\n",
        "wordfreq = []\n",
        "for w in stopwords_removed:\n",
        "    wordfreq.append(stopwords_removed.count(w))\n",
        "\n",
        "FreqDist(stopwords_removed)\n",
        "stopwords_removed\n",
        "\n",
        "for i in stopwords_removed:\n",
        " print(i, '-----', wordfreq[stopwords_removed.index(i)])\n",
        "\n",
        "all_fdist = pd.Series(wordfreq)\n",
        "\n",
        "fig, ax = plt.subplots(figsize=(30,10))\n",
        "all_plot = sns.barplot(x=stopwords_removed, y=all_fdist.values, ax=ax)\n",
        "plt.xticks(rotation=50);\n"
      ],
      "metadata": {
        "colab": {
          "base_uri": "https://localhost:8080/",
          "height": 1000
        },
        "id": "2HsfuAjkmdBZ",
        "outputId": "10b452ac-3ac3-4f7b-be21-a829fb7430c1"
      },
      "execution_count": null,
      "outputs": [
        {
          "output_type": "stream",
          "name": "stderr",
          "text": [
            "[nltk_data] Downloading package stopwords to /root/nltk_data...\n",
            "[nltk_data]   Package stopwords is already up-to-date!\n",
            "[nltk_data] Downloading package punkt to /root/nltk_data...\n",
            "[nltk_data]   Package punkt is already up-to-date!\n"
          ]
        },
        {
          "output_type": "stream",
          "name": "stdout",
          "text": [
            "!\"#$%&'()*+,-./:;<=>?@[\\]^_`{|}~\n",
            "ஒருநாள் கிரிக்கெட் தொடர் மற்றும் முதல் டி20 போட்டி ட்ரினிட்டாட்டில் நடைபெற்றது ஆனால் 2வது மற்றும் 3வது டி20 போட்டிகள் செயிண்ட் கிட்ஸில் உள்ள வார்னர் பார்க் மைதானத்தில் நடைபெறும் என அறிவிக்கப்பட்டிருந்தது இதற்காக இரு அணி வீரர்களும் நேற்றே அங்கு சென்றடைந்தனர் போட்டி இன்று இரவு 8 மணிக்கு வழக்கம் போல் தொடங்கும் என அறிவித்தனர்\n",
            "tokenized words>>>>> ['ஒருநாள்', 'கிரிக்கெட்', 'தொடர்', 'மற்றும்', 'முதல்', 'டி20', 'போட்டி', 'ட்ரினிட்டாட்டில்', 'நடைபெற்றது', 'ஆனால்', '2வது', 'மற்றும்', '3வது', 'டி20', 'போட்டிகள்', 'செயிண்ட்', 'கிட்ஸில்', 'உள்ள', 'வார்னர்', 'பார்க்', 'மைதானத்தில்', 'நடைபெறும்', 'என', 'அறிவிக்கப்பட்டிருந்தது', 'இதற்காக', 'இரு', 'அணி', 'வீரர்களும்', 'நேற்றே', 'அங்கு', 'சென்றடைந்தனர்', 'போட்டி', 'இன்று', 'இரவு', '8', 'மணிக்கு', 'வழக்கம்', 'போல்', 'தொடங்கும்', 'என', 'அறிவித்தனர்']\n",
            "Stopwords removed>>>>>>> ['ஒருநாள்', 'கிரிக்கெட்', 'தொடர்', 'டி20', 'போட்டி', 'ட்ரினிட்டாட்டில்', 'நடைபெற்றது', '2வது', '3வது', 'டி20', 'போட்டிகள்', 'செயிண்ட்', 'கிட்ஸில்', 'வார்னர்', 'பார்க்', 'மைதானத்தில்', 'நடைபெறும்', 'அறிவிக்கப்பட்டிருந்தது', 'அணி', 'வீரர்களும்', 'நேற்றே', 'சென்றடைந்தனர்', 'போட்டி', 'இன்று', 'இரவு', '8', 'மணிக்கு', 'வழக்கம்', 'தொடங்கும்', 'அறிவித்தனர்']\n",
            "ஒருநாள் ----- 1\n",
            "கிரிக்கெட் ----- 1\n",
            "தொடர் ----- 1\n",
            "டி20 ----- 2\n",
            "போட்டி ----- 2\n",
            "ட்ரினிட்டாட்டில் ----- 1\n",
            "நடைபெற்றது ----- 1\n",
            "2வது ----- 1\n",
            "3வது ----- 1\n",
            "டி20 ----- 2\n",
            "போட்டிகள் ----- 1\n",
            "செயிண்ட் ----- 1\n",
            "கிட்ஸில் ----- 1\n",
            "வார்னர் ----- 1\n",
            "பார்க் ----- 1\n",
            "மைதானத்தில் ----- 1\n",
            "நடைபெறும் ----- 1\n",
            "அறிவிக்கப்பட்டிருந்தது ----- 1\n",
            "அணி ----- 1\n",
            "வீரர்களும் ----- 1\n",
            "நேற்றே ----- 1\n",
            "சென்றடைந்தனர் ----- 1\n",
            "போட்டி ----- 2\n",
            "இன்று ----- 1\n",
            "இரவு ----- 1\n",
            "8 ----- 1\n",
            "மணிக்கு ----- 1\n",
            "வழக்கம் ----- 1\n",
            "தொடங்கும் ----- 1\n",
            "அறிவித்தனர் ----- 1\n"
          ]
        },
        {
          "output_type": "stream",
          "name": "stderr",
          "text": [
            "/usr/local/lib/python3.7/dist-packages/matplotlib/backends/backend_agg.py:214: RuntimeWarning: Glyph 2962 missing from current font.\n",
            "  font.set_text(s, 0.0, flags=flags)\n",
            "/usr/local/lib/python3.7/dist-packages/matplotlib/backends/backend_agg.py:214: RuntimeWarning: Glyph 2992 missing from current font.\n",
            "  font.set_text(s, 0.0, flags=flags)\n",
            "/usr/local/lib/python3.7/dist-packages/matplotlib/backends/backend_agg.py:214: RuntimeWarning: Glyph 3009 missing from current font.\n",
            "  font.set_text(s, 0.0, flags=flags)\n",
            "/usr/local/lib/python3.7/dist-packages/matplotlib/backends/backend_agg.py:214: RuntimeWarning: Glyph 2984 missing from current font.\n",
            "  font.set_text(s, 0.0, flags=flags)\n",
            "/usr/local/lib/python3.7/dist-packages/matplotlib/backends/backend_agg.py:214: RuntimeWarning: Glyph 3006 missing from current font.\n",
            "  font.set_text(s, 0.0, flags=flags)\n",
            "/usr/local/lib/python3.7/dist-packages/matplotlib/backends/backend_agg.py:214: RuntimeWarning: Glyph 2995 missing from current font.\n",
            "  font.set_text(s, 0.0, flags=flags)\n",
            "/usr/local/lib/python3.7/dist-packages/matplotlib/backends/backend_agg.py:214: RuntimeWarning: Glyph 3021 missing from current font.\n",
            "  font.set_text(s, 0.0, flags=flags)\n",
            "/usr/local/lib/python3.7/dist-packages/matplotlib/backends/backend_agg.py:214: RuntimeWarning: Glyph 2965 missing from current font.\n",
            "  font.set_text(s, 0.0, flags=flags)\n",
            "/usr/local/lib/python3.7/dist-packages/matplotlib/backends/backend_agg.py:214: RuntimeWarning: Glyph 3007 missing from current font.\n",
            "  font.set_text(s, 0.0, flags=flags)\n",
            "/usr/local/lib/python3.7/dist-packages/matplotlib/backends/backend_agg.py:214: RuntimeWarning: Glyph 3014 missing from current font.\n",
            "  font.set_text(s, 0.0, flags=flags)\n",
            "/usr/local/lib/python3.7/dist-packages/matplotlib/backends/backend_agg.py:214: RuntimeWarning: Glyph 2975 missing from current font.\n",
            "  font.set_text(s, 0.0, flags=flags)\n",
            "/usr/local/lib/python3.7/dist-packages/matplotlib/backends/backend_agg.py:214: RuntimeWarning: Glyph 2980 missing from current font.\n",
            "  font.set_text(s, 0.0, flags=flags)\n",
            "/usr/local/lib/python3.7/dist-packages/matplotlib/backends/backend_agg.py:214: RuntimeWarning: Glyph 3018 missing from current font.\n",
            "  font.set_text(s, 0.0, flags=flags)\n",
            "/usr/local/lib/python3.7/dist-packages/matplotlib/backends/backend_agg.py:214: RuntimeWarning: Glyph 2986 missing from current font.\n",
            "  font.set_text(s, 0.0, flags=flags)\n",
            "/usr/local/lib/python3.7/dist-packages/matplotlib/backends/backend_agg.py:214: RuntimeWarning: Glyph 3019 missing from current font.\n",
            "  font.set_text(s, 0.0, flags=flags)\n",
            "/usr/local/lib/python3.7/dist-packages/matplotlib/backends/backend_agg.py:214: RuntimeWarning: Glyph 2985 missing from current font.\n",
            "  font.set_text(s, 0.0, flags=flags)\n",
            "/usr/local/lib/python3.7/dist-packages/matplotlib/backends/backend_agg.py:214: RuntimeWarning: Glyph 2994 missing from current font.\n",
            "  font.set_text(s, 0.0, flags=flags)\n",
            "/usr/local/lib/python3.7/dist-packages/matplotlib/backends/backend_agg.py:214: RuntimeWarning: Glyph 3016 missing from current font.\n",
            "  font.set_text(s, 0.0, flags=flags)\n",
            "/usr/local/lib/python3.7/dist-packages/matplotlib/backends/backend_agg.py:214: RuntimeWarning: Glyph 2993 missing from current font.\n",
            "  font.set_text(s, 0.0, flags=flags)\n",
            "/usr/local/lib/python3.7/dist-packages/matplotlib/backends/backend_agg.py:214: RuntimeWarning: Glyph 2997 missing from current font.\n",
            "  font.set_text(s, 0.0, flags=flags)\n",
            "/usr/local/lib/python3.7/dist-packages/matplotlib/backends/backend_agg.py:214: RuntimeWarning: Glyph 2970 missing from current font.\n",
            "  font.set_text(s, 0.0, flags=flags)\n",
            "/usr/local/lib/python3.7/dist-packages/matplotlib/backends/backend_agg.py:214: RuntimeWarning: Glyph 2991 missing from current font.\n",
            "  font.set_text(s, 0.0, flags=flags)\n",
            "/usr/local/lib/python3.7/dist-packages/matplotlib/backends/backend_agg.py:214: RuntimeWarning: Glyph 2979 missing from current font.\n",
            "  font.set_text(s, 0.0, flags=flags)\n",
            "/usr/local/lib/python3.7/dist-packages/matplotlib/backends/backend_agg.py:214: RuntimeWarning: Glyph 3000 missing from current font.\n",
            "  font.set_text(s, 0.0, flags=flags)\n",
            "/usr/local/lib/python3.7/dist-packages/matplotlib/backends/backend_agg.py:214: RuntimeWarning: Glyph 2990 missing from current font.\n",
            "  font.set_text(s, 0.0, flags=flags)\n",
            "/usr/local/lib/python3.7/dist-packages/matplotlib/backends/backend_agg.py:214: RuntimeWarning: Glyph 2949 missing from current font.\n",
            "  font.set_text(s, 0.0, flags=flags)\n",
            "/usr/local/lib/python3.7/dist-packages/matplotlib/backends/backend_agg.py:214: RuntimeWarning: Glyph 3008 missing from current font.\n",
            "  font.set_text(s, 0.0, flags=flags)\n",
            "/usr/local/lib/python3.7/dist-packages/matplotlib/backends/backend_agg.py:214: RuntimeWarning: Glyph 3015 missing from current font.\n",
            "  font.set_text(s, 0.0, flags=flags)\n",
            "/usr/local/lib/python3.7/dist-packages/matplotlib/backends/backend_agg.py:214: RuntimeWarning: Glyph 2951 missing from current font.\n",
            "  font.set_text(s, 0.0, flags=flags)\n",
            "/usr/local/lib/python3.7/dist-packages/matplotlib/backends/backend_agg.py:214: RuntimeWarning: Glyph 2996 missing from current font.\n",
            "  font.set_text(s, 0.0, flags=flags)\n",
            "/usr/local/lib/python3.7/dist-packages/matplotlib/backends/backend_agg.py:214: RuntimeWarning: Glyph 2969 missing from current font.\n",
            "  font.set_text(s, 0.0, flags=flags)\n",
            "/usr/local/lib/python3.7/dist-packages/matplotlib/backends/backend_agg.py:183: RuntimeWarning: Glyph 2962 missing from current font.\n",
            "  font.set_text(s, 0, flags=flags)\n",
            "/usr/local/lib/python3.7/dist-packages/matplotlib/backends/backend_agg.py:183: RuntimeWarning: Glyph 2992 missing from current font.\n",
            "  font.set_text(s, 0, flags=flags)\n",
            "/usr/local/lib/python3.7/dist-packages/matplotlib/backends/backend_agg.py:183: RuntimeWarning: Glyph 3009 missing from current font.\n",
            "  font.set_text(s, 0, flags=flags)\n",
            "/usr/local/lib/python3.7/dist-packages/matplotlib/backends/backend_agg.py:183: RuntimeWarning: Glyph 2984 missing from current font.\n",
            "  font.set_text(s, 0, flags=flags)\n",
            "/usr/local/lib/python3.7/dist-packages/matplotlib/backends/backend_agg.py:183: RuntimeWarning: Glyph 3006 missing from current font.\n",
            "  font.set_text(s, 0, flags=flags)\n",
            "/usr/local/lib/python3.7/dist-packages/matplotlib/backends/backend_agg.py:183: RuntimeWarning: Glyph 2995 missing from current font.\n",
            "  font.set_text(s, 0, flags=flags)\n",
            "/usr/local/lib/python3.7/dist-packages/matplotlib/backends/backend_agg.py:183: RuntimeWarning: Glyph 3021 missing from current font.\n",
            "  font.set_text(s, 0, flags=flags)\n",
            "/usr/local/lib/python3.7/dist-packages/matplotlib/backends/backend_agg.py:183: RuntimeWarning: Glyph 2965 missing from current font.\n",
            "  font.set_text(s, 0, flags=flags)\n",
            "/usr/local/lib/python3.7/dist-packages/matplotlib/backends/backend_agg.py:183: RuntimeWarning: Glyph 3007 missing from current font.\n",
            "  font.set_text(s, 0, flags=flags)\n",
            "/usr/local/lib/python3.7/dist-packages/matplotlib/backends/backend_agg.py:183: RuntimeWarning: Glyph 3014 missing from current font.\n",
            "  font.set_text(s, 0, flags=flags)\n",
            "/usr/local/lib/python3.7/dist-packages/matplotlib/backends/backend_agg.py:183: RuntimeWarning: Glyph 2975 missing from current font.\n",
            "  font.set_text(s, 0, flags=flags)\n",
            "/usr/local/lib/python3.7/dist-packages/matplotlib/backends/backend_agg.py:183: RuntimeWarning: Glyph 2980 missing from current font.\n",
            "  font.set_text(s, 0, flags=flags)\n",
            "/usr/local/lib/python3.7/dist-packages/matplotlib/backends/backend_agg.py:183: RuntimeWarning: Glyph 3018 missing from current font.\n",
            "  font.set_text(s, 0, flags=flags)\n",
            "/usr/local/lib/python3.7/dist-packages/matplotlib/backends/backend_agg.py:183: RuntimeWarning: Glyph 2986 missing from current font.\n",
            "  font.set_text(s, 0, flags=flags)\n",
            "/usr/local/lib/python3.7/dist-packages/matplotlib/backends/backend_agg.py:183: RuntimeWarning: Glyph 3019 missing from current font.\n",
            "  font.set_text(s, 0, flags=flags)\n",
            "/usr/local/lib/python3.7/dist-packages/matplotlib/backends/backend_agg.py:183: RuntimeWarning: Glyph 2985 missing from current font.\n",
            "  font.set_text(s, 0, flags=flags)\n",
            "/usr/local/lib/python3.7/dist-packages/matplotlib/backends/backend_agg.py:183: RuntimeWarning: Glyph 2994 missing from current font.\n",
            "  font.set_text(s, 0, flags=flags)\n",
            "/usr/local/lib/python3.7/dist-packages/matplotlib/backends/backend_agg.py:183: RuntimeWarning: Glyph 3016 missing from current font.\n",
            "  font.set_text(s, 0, flags=flags)\n",
            "/usr/local/lib/python3.7/dist-packages/matplotlib/backends/backend_agg.py:183: RuntimeWarning: Glyph 2993 missing from current font.\n",
            "  font.set_text(s, 0, flags=flags)\n",
            "/usr/local/lib/python3.7/dist-packages/matplotlib/backends/backend_agg.py:183: RuntimeWarning: Glyph 2997 missing from current font.\n",
            "  font.set_text(s, 0, flags=flags)\n",
            "/usr/local/lib/python3.7/dist-packages/matplotlib/backends/backend_agg.py:183: RuntimeWarning: Glyph 2970 missing from current font.\n",
            "  font.set_text(s, 0, flags=flags)\n",
            "/usr/local/lib/python3.7/dist-packages/matplotlib/backends/backend_agg.py:183: RuntimeWarning: Glyph 2991 missing from current font.\n",
            "  font.set_text(s, 0, flags=flags)\n",
            "/usr/local/lib/python3.7/dist-packages/matplotlib/backends/backend_agg.py:183: RuntimeWarning: Glyph 2979 missing from current font.\n",
            "  font.set_text(s, 0, flags=flags)\n",
            "/usr/local/lib/python3.7/dist-packages/matplotlib/backends/backend_agg.py:183: RuntimeWarning: Glyph 3000 missing from current font.\n",
            "  font.set_text(s, 0, flags=flags)\n",
            "/usr/local/lib/python3.7/dist-packages/matplotlib/backends/backend_agg.py:183: RuntimeWarning: Glyph 2990 missing from current font.\n",
            "  font.set_text(s, 0, flags=flags)\n",
            "/usr/local/lib/python3.7/dist-packages/matplotlib/backends/backend_agg.py:183: RuntimeWarning: Glyph 2949 missing from current font.\n",
            "  font.set_text(s, 0, flags=flags)\n",
            "/usr/local/lib/python3.7/dist-packages/matplotlib/backends/backend_agg.py:183: RuntimeWarning: Glyph 3008 missing from current font.\n",
            "  font.set_text(s, 0, flags=flags)\n",
            "/usr/local/lib/python3.7/dist-packages/matplotlib/backends/backend_agg.py:183: RuntimeWarning: Glyph 3015 missing from current font.\n",
            "  font.set_text(s, 0, flags=flags)\n",
            "/usr/local/lib/python3.7/dist-packages/matplotlib/backends/backend_agg.py:183: RuntimeWarning: Glyph 2951 missing from current font.\n",
            "  font.set_text(s, 0, flags=flags)\n",
            "/usr/local/lib/python3.7/dist-packages/matplotlib/backends/backend_agg.py:183: RuntimeWarning: Glyph 2996 missing from current font.\n",
            "  font.set_text(s, 0, flags=flags)\n",
            "/usr/local/lib/python3.7/dist-packages/matplotlib/backends/backend_agg.py:183: RuntimeWarning: Glyph 2969 missing from current font.\n",
            "  font.set_text(s, 0, flags=flags)\n"
          ]
        },
        {
          "output_type": "display_data",
          "data": {
            "text/plain": [
              "<Figure size 2160x720 with 1 Axes>"
            ],
            "image/png": "[encoded data removed]"
          },
          "metadata": {
            "needs_background": "light"
          }
        }
      ]
    },
    {
      "cell_type": "markdown",
      "source": [
        "Lab Program 4"
      ],
      "metadata": {
        "id": "nY50NlQryhp2"
      }
    },
    {
      "cell_type": "code",
      "source": [
        "#lab program 4\n",
        "\n",
        "#importing nltk and resemebling a sentence in cricket\n",
        "\n",
        "import nltk\n",
        "import pandas as pd\n",
        "import seaborn as sns\n",
        "import matplotlib.pyplot as plt\n",
        "\n",
        "nltk.download('stopwords')\n",
        "nltk.download('punkt')\n",
        "from nltk.corpus import stopwords\n",
        "from nltk.tokenize import word_tokenize\n",
        "from nltk.probability import FreqDist\n",
        "\n",
        "import nltk.data #for loading non english language tokenizers\n",
        "nltk.download(\"punkt\") #language pickle files\n",
        "\n",
        "!pip install inltk\n",
        "from inltk.inltk import tokenize\n",
        "!pip install torch==1.3.1+cpu -f https://download.pytorch.org/whl/torch_stable.html"
      ],
      "metadata": {
        "id": "PbPpAvp6yf_R"
      },
      "execution_count": null,
      "outputs": []
    },
    {
      "cell_type": "code",
      "source": [
        "from inltk.inltk import tokenize\n",
        "text = '''ஒருநாள் கிரிக்கெட் தொடர் மற்றும் முதல் டி20 போட்டி ட்ரினிட்டாட்டில் நடைபெற்றது. ஆனால் 2வது மற்றும் 3வது டி20 போட்டிகள் செயிண்ட் கிட்ஸில் உள்ள வார்னர் பார்க் மைதானத்தில் நடைபெறும் என அறிவிக்கப்பட்டிருந்தது. இதற்காக இரு அணி வீரர்களும் நேற்றே அங்கு சென்றடைந்தனர். போட்டி இன்று இரவு 8 மணிக்கு வழக்கம் போல் தொடங்கும் என அறிவித்தனர்'''\n",
        "tokenize(text ,'ta') "
      ],
      "metadata": {
        "id": "OI3ykfKc5a5a"
      },
      "execution_count": null,
      "outputs": []
    },
    {
      "cell_type": "markdown",
      "source": [
        "\n",
        "lab 3 using inltk"
      ],
      "metadata": {
        "id": "uSrYktOQEzLW"
      }
    },
    {
      "cell_type": "code",
      "source": [
        "#lab 3 using inltk\n",
        "\n",
        "!pip install advertools\n"
      ],
      "metadata": {
        "colab": {
          "base_uri": "https://localhost:8080/"
        },
        "id": "4RTBuWBxEsbQ",
        "outputId": "366d73a8-bfb8-4465-e4e1-cb304935c3d0"
      },
      "execution_count": null,
      "outputs": [
        {
          "output_type": "stream",
          "name": "stdout",
          "text": [
            "Looking in indexes: https://pypi.org/simple, https://us-python.pkg.dev/colab-wheels/public/simple/\n",
            "Collecting advertools\n",
            "  Downloading advertools-0.13.1-py2.py3-none-any.whl (309 kB)\n",
            "\u001b[K     |████████████████████████████████| 309 kB 4.4 MB/s \n",
            "\u001b[?25hCollecting scrapy\n",
            "  Downloading Scrapy-2.6.2-py2.py3-none-any.whl (264 kB)\n",
            "\u001b[K     |████████████████████████████████| 264 kB 47.3 MB/s \n",
            "\u001b[?25hRequirement already satisfied: pandas in /usr/local/lib/python3.7/dist-packages (from advertools) (1.3.5)\n",
            "Requirement already satisfied: pyasn1 in /usr/local/lib/python3.7/dist-packages (from advertools) (0.4.8)\n",
            "Collecting twython\n",
            "  Downloading twython-3.9.1-py3-none-any.whl (33 kB)\n",
            "Requirement already satisfied: pyarrow in /usr/local/lib/python3.7/dist-packages (from advertools) (6.0.1)\n",
            "Requirement already satisfied: pytz>=2017.3 in /usr/local/lib/python3.7/dist-packages (from pandas->advertools) (2022.1)\n",
            "Requirement already satisfied: numpy>=1.17.3 in /usr/local/lib/python3.7/dist-packages (from pandas->advertools) (1.21.6)\n",
            "Requirement already satisfied: python-dateutil>=2.7.3 in /usr/local/lib/python3.7/dist-packages (from pandas->advertools) (2.8.2)\n",
            "Requirement already satisfied: six>=1.5 in /usr/local/lib/python3.7/dist-packages (from python-dateutil>=2.7.3->pandas->advertools) (1.15.0)\n",
            "Collecting pyOpenSSL>=16.2.0\n",
            "  Downloading pyOpenSSL-22.0.0-py2.py3-none-any.whl (55 kB)\n",
            "\u001b[K     |████████████████████████████████| 55 kB 3.8 MB/s \n",
            "\u001b[?25hCollecting itemadapter>=0.1.0\n",
            "  Downloading itemadapter-0.6.0-py3-none-any.whl (10 kB)\n",
            "Collecting tldextract\n",
            "  Downloading tldextract-3.3.1-py3-none-any.whl (93 kB)\n",
            "\u001b[K     |████████████████████████████████| 93 kB 2.0 MB/s \n",
            "\u001b[?25hCollecting queuelib>=1.4.2\n",
            "  Downloading queuelib-1.6.2-py2.py3-none-any.whl (13 kB)\n",
            "Collecting service-identity>=16.0.0\n",
            "  Downloading service_identity-21.1.0-py2.py3-none-any.whl (12 kB)\n",
            "Collecting w3lib>=1.17.0\n",
            "  Downloading w3lib-1.22.0-py2.py3-none-any.whl (20 kB)\n",
            "Requirement already satisfied: lxml>=3.5.0 in /usr/local/lib/python3.7/dist-packages (from scrapy->advertools) (4.9.1)\n",
            "Collecting cssselect>=0.9.1\n",
            "  Downloading cssselect-1.1.0-py2.py3-none-any.whl (16 kB)\n",
            "Collecting parsel>=1.5.0\n",
            "  Downloading parsel-1.6.0-py2.py3-none-any.whl (13 kB)\n",
            "Collecting zope.interface>=4.1.3\n",
            "  Downloading zope.interface-5.4.0-cp37-cp37m-manylinux2010_x86_64.whl (251 kB)\n",
            "\u001b[K     |████████████████████████████████| 251 kB 55.2 MB/s \n",
            "\u001b[?25hRequirement already satisfied: setuptools in /usr/local/lib/python3.7/dist-packages (from scrapy->advertools) (57.4.0)\n",
            "Collecting Twisted>=17.9.0\n",
            "  Downloading Twisted-22.4.0-py3-none-any.whl (3.1 MB)\n",
            "\u001b[K     |████████████████████████████████| 3.1 MB 41.8 MB/s \n",
            "\u001b[?25hCollecting cryptography>=2.0\n",
            "  Downloading cryptography-37.0.4-cp36-abi3-manylinux_2_24_x86_64.whl (4.1 MB)\n",
            "\u001b[K     |████████████████████████████████| 4.1 MB 37.4 MB/s \n",
            "\u001b[?25hCollecting itemloaders>=1.0.1\n",
            "  Downloading itemloaders-1.0.4-py3-none-any.whl (11 kB)\n",
            "Collecting protego>=0.1.15\n",
            "  Downloading Protego-0.2.1-py2.py3-none-any.whl (8.2 kB)\n",
            "Collecting PyDispatcher>=2.0.5\n",
            "  Downloading PyDispatcher-2.0.5.zip (47 kB)\n",
            "\u001b[K     |████████████████████████████████| 47 kB 4.7 MB/s \n",
            "\u001b[?25hRequirement already satisfied: cffi>=1.12 in /usr/local/lib/python3.7/dist-packages (from cryptography>=2.0->scrapy->advertools) (1.15.1)\n",
            "Requirement already satisfied: pycparser in /usr/local/lib/python3.7/dist-packages (from cffi>=1.12->cryptography>=2.0->scrapy->advertools) (2.21)\n",
            "Collecting jmespath>=0.9.5\n",
            "  Downloading jmespath-1.0.1-py3-none-any.whl (20 kB)\n",
            "Requirement already satisfied: pyasn1-modules in /usr/local/lib/python3.7/dist-packages (from service-identity>=16.0.0->scrapy->advertools) (0.2.8)\n",
            "Requirement already satisfied: attrs>=19.1.0 in /usr/local/lib/python3.7/dist-packages (from service-identity>=16.0.0->scrapy->advertools) (22.1.0)\n",
            "Collecting constantly>=15.1\n",
            "  Downloading constantly-15.1.0-py2.py3-none-any.whl (7.9 kB)\n",
            "Collecting Automat>=0.8.0\n",
            "  Downloading Automat-20.2.0-py2.py3-none-any.whl (31 kB)\n",
            "Collecting hyperlink>=17.1.1\n",
            "  Downloading hyperlink-21.0.0-py2.py3-none-any.whl (74 kB)\n",
            "\u001b[K     |████████████████████████████████| 74 kB 3.7 MB/s \n",
            "\u001b[?25hRequirement already satisfied: typing-extensions>=3.6.5 in /usr/local/lib/python3.7/dist-packages (from Twisted>=17.9.0->scrapy->advertools) (4.1.1)\n",
            "Collecting incremental>=21.3.0\n",
            "  Downloading incremental-21.3.0-py2.py3-none-any.whl (15 kB)\n",
            "Requirement already satisfied: idna>=2.5 in /usr/local/lib/python3.7/dist-packages (from hyperlink>=17.1.1->Twisted>=17.9.0->scrapy->advertools) (2.10)\n",
            "Collecting requests-file>=1.4\n",
            "  Downloading requests_file-1.5.1-py2.py3-none-any.whl (3.7 kB)\n",
            "Requirement already satisfied: filelock>=3.0.8 in /usr/local/lib/python3.7/dist-packages (from tldextract->scrapy->advertools) (3.7.1)\n",
            "Requirement already satisfied: requests>=2.1.0 in /usr/local/lib/python3.7/dist-packages (from tldextract->scrapy->advertools) (2.23.0)\n",
            "Requirement already satisfied: urllib3!=1.25.0,!=1.25.1,<1.26,>=1.21.1 in /usr/local/lib/python3.7/dist-packages (from requests>=2.1.0->tldextract->scrapy->advertools) (1.24.3)\n",
            "Requirement already satisfied: certifi>=2017.4.17 in /usr/local/lib/python3.7/dist-packages (from requests>=2.1.0->tldextract->scrapy->advertools) (2022.6.15)\n",
            "Requirement already satisfied: chardet<4,>=3.0.2 in /usr/local/lib/python3.7/dist-packages (from requests>=2.1.0->tldextract->scrapy->advertools) (3.0.4)\n",
            "Requirement already satisfied: requests-oauthlib>=0.4.0 in /usr/local/lib/python3.7/dist-packages (from twython->advertools) (1.3.1)\n",
            "Requirement already satisfied: oauthlib>=3.0.0 in /usr/local/lib/python3.7/dist-packages (from requests-oauthlib>=0.4.0->twython->advertools) (3.2.0)\n",
            "Building wheels for collected packages: PyDispatcher\n",
            "  Building wheel for PyDispatcher (setup.py) ... \u001b[?25l\u001b[?25hdone\n",
            "  Created wheel for PyDispatcher: filename=PyDispatcher-2.0.5-py3-none-any.whl size=11516 sha256=b32765aa83839c069a0179c0c02789ef1184a61daf7525e200a6a65d8ec078e6\n",
            "  Stored in directory: /root/.cache/pip/wheels/2d/18/21/3c6a732eaa69a339198e08bb63b7da2c45933a3428b29ec454\n",
            "Successfully built PyDispatcher\n",
            "Installing collected packages: w3lib, cssselect, zope.interface, requests-file, parsel, jmespath, itemadapter, incremental, hyperlink, cryptography, constantly, Automat, Twisted, tldextract, service-identity, queuelib, pyOpenSSL, PyDispatcher, protego, itemloaders, twython, scrapy, advertools\n",
            "Successfully installed Automat-20.2.0 PyDispatcher-2.0.5 Twisted-22.4.0 advertools-0.13.1 constantly-15.1.0 cryptography-37.0.4 cssselect-1.1.0 hyperlink-21.0.0 incremental-21.3.0 itemadapter-0.6.0 itemloaders-1.0.4 jmespath-1.0.1 parsel-1.6.0 protego-0.2.1 pyOpenSSL-22.0.0 queuelib-1.6.2 requests-file-1.5.1 scrapy-2.6.2 service-identity-21.1.0 tldextract-3.3.1 twython-3.9.1 w3lib-1.22.0 zope.interface-5.4.0\n"
          ]
        },
        {
          "output_type": "execute_result",
          "data": {
            "text/plain": [
              "dict_keys(['arabic', 'azerbaijani', 'bengali', 'catalan', 'chinese', 'croatian', 'danish', 'dutch', 'english', 'finnish', 'french', 'german', 'greek', 'hebrew', 'hindi', 'hungarian', 'indonesian', 'irish', 'italian', 'japanese', 'kazakh', 'nepali', 'norwegian', 'persian', 'polish', 'portuguese', 'romanian', 'russian', 'sinhala', 'spanish', 'swedish', 'tagalog', 'tamil', 'tatar', 'telugu', 'thai', 'turkish', 'ukrainian', 'urdu', 'vietnamese'])"
            ]
          },
          "metadata": {},
          "execution_count": 20
        }
      ]
    },
    {
      "cell_type": "code",
      "source": [
        "import advertools as adv\n",
        "adv.stopwords.keys()"
      ],
      "metadata": {
        "colab": {
          "base_uri": "https://localhost:8080/"
        },
        "id": "7kOGMxPGFUEo",
        "outputId": "a2537fdf-1a6f-401d-9a82-d0a0499003f0"
      },
      "execution_count": null,
      "outputs": [
        {
          "output_type": "execute_result",
          "data": {
            "text/plain": [
              "dict_keys(['arabic', 'azerbaijani', 'bengali', 'catalan', 'chinese', 'croatian', 'danish', 'dutch', 'english', 'finnish', 'french', 'german', 'greek', 'hebrew', 'hindi', 'hungarian', 'indonesian', 'irish', 'italian', 'japanese', 'kazakh', 'nepali', 'norwegian', 'persian', 'polish', 'portuguese', 'romanian', 'russian', 'sinhala', 'spanish', 'swedish', 'tagalog', 'tamil', 'tatar', 'telugu', 'thai', 'turkish', 'ukrainian', 'urdu', 'vietnamese'])"
            ]
          },
          "metadata": {},
          "execution_count": 21
        }
      ]
    },
    {
      "cell_type": "code",
      "source": [
        "\n",
        "print(sorted(adv.stopwords['tamil'])[:100])"
      ],
      "metadata": {
        "colab": {
          "base_uri": "https://localhost:8080/"
        },
        "id": "pWdeageUFYlu",
        "outputId": "45dcb8f8-5b04-4c4c-a1fd-70729508b16d"
      },
      "execution_count": null,
      "outputs": [
        {
          "output_type": "stream",
          "name": "stdout",
          "text": [
            "['அங்கு', 'அங்கே', 'அடுத்த', 'அதனால்', 'அதன்', 'அதற்கு', 'அதிக', 'அதில்', 'அது', 'அதே', 'அதை', 'அந்த', 'அந்தக்', 'அந்தப்', 'அன்று', 'அல்லது', 'அவன்', 'அவரது', 'அவர்', 'அவர்கள்', 'அவள்', 'அவை', 'ஆகிய', 'ஆகியோர்', 'ஆகும்', 'இங்கு', 'இங்கே', 'இடத்தில்', 'இடம்', 'இதனால்', 'இதனை', 'இதன்', 'இதற்கு', 'இதில்', 'இது', 'இதை', 'இந்த', 'இந்தக்', 'இந்தத்', 'இந்தப்', 'இன்னும்', 'இப்போது', 'இரு', 'இருக்கும்', 'இருந்த', 'இருந்தது', 'இருந்து', 'இவர்', 'இவை', 'உன்', 'உள்ள', 'உள்ளது', 'உள்ளன', 'எந்த', 'என', 'எனக்', 'எனக்கு', 'எனப்படும்', 'எனவும்', 'எனவே', 'எனினும்', 'எனும்', 'என்', 'என்ன', 'என்னும்', 'என்பது', 'என்பதை', 'என்ற', 'என்று', 'என்றும்', 'எல்லாம்', 'ஏன்', 'ஒரு', 'ஒரே', 'ஓர்', 'கொண்ட', 'கொண்டு', 'கொள்ள', 'சற்று', 'சிறு', 'சில', 'சேர்ந்த', 'தனது', 'தன்', 'தவிர', 'தான்', 'நான்', 'நாம்', 'நீ', 'பற்றி', 'பற்றிய', 'பல', 'பலரும்', 'பல்வேறு', 'பின்', 'பின்னர்', 'பிற', 'பிறகு', 'பெரும்', 'பேர்']\n"
          ]
        }
      ]
    },
    {
      "cell_type": "markdown",
      "source": [
        "# Lab - 4 & 5 synonyms from WordNet "
      ],
      "metadata": {
        "id": "FSc6HJ4kAIJP"
      }
    },
    {
      "cell_type": "code",
      "source": [
        "# First, we're going to need to import wordnet:\n",
        "import nltk\n",
        "import pandas as pd\n",
        "import seaborn as sns\n",
        "import matplotlib.pyplot as plt\n",
        "from nltk.corpus import wordnet as wn\n",
        "nltk.download('wordnet')\n",
        "nltk.download('omw-1.4')\n"
      ],
      "metadata": {
        "id": "hAxGmvzGAz75",
        "colab": {
          "base_uri": "https://localhost:8080/"
        },
        "outputId": "e47674cf-5fe9-4bf2-b3b7-be3dbbdf80c9"
      },
      "execution_count": 1,
      "outputs": [
        {
          "output_type": "stream",
          "name": "stderr",
          "text": [
            "[nltk_data] Downloading package wordnet to /root/nltk_data...\n",
            "[nltk_data] Downloading package omw-1.4 to /root/nltk_data...\n"
          ]
        },
        {
          "output_type": "execute_result",
          "data": {
            "text/plain": [
              "True"
            ]
          },
          "metadata": {},
          "execution_count": 1
        }
      ]
    },
    {
      "cell_type": "code",
      "source": [
        "syn = wn.synsets('match')[0]\n",
        "syn.name()\n",
        "syn.definition()\n",
        "syn.examples()"
      ],
      "metadata": {
        "colab": {
          "base_uri": "https://localhost:8080/"
        },
        "id": "oTuUxTwlJpFu",
        "outputId": "cc486a7a-d4db-4979-e80d-7e0feaf1180e"
      },
      "execution_count": 2,
      "outputs": [
        {
          "output_type": "execute_result",
          "data": {
            "text/plain": [
              "['he always carries matches to light his pipe',\n",
              " \"as long you've a lucifer to light your fag\"]"
            ]
          },
          "metadata": {},
          "execution_count": 2
        }
      ]
    },
    {
      "cell_type": "code",
      "source": [
        "syn.name()"
      ],
      "metadata": {
        "colab": {
          "base_uri": "https://localhost:8080/",
          "height": 36
        },
        "id": "VUjCcM_nKrqv",
        "outputId": "f644f404-d711-4bef-d5eb-62673dc563cc"
      },
      "execution_count": 3,
      "outputs": [
        {
          "output_type": "execute_result",
          "data": {
            "text/plain": [
              "'match.n.01'"
            ],
            "application/vnd.google.colaboratory.intrinsic+json": {
              "type": "string"
            }
          },
          "metadata": {},
          "execution_count": 3
        }
      ]
    },
    {
      "cell_type": "code",
      "source": [
        "syn.definition()"
      ],
      "metadata": {
        "colab": {
          "base_uri": "https://localhost:8080/",
          "height": 36
        },
        "id": "eyhjQ_yhKnuE",
        "outputId": "cc65813e-924d-440c-8d92-025e2f4e1576"
      },
      "execution_count": 4,
      "outputs": [
        {
          "output_type": "execute_result",
          "data": {
            "text/plain": [
              "'lighter consisting of a thin piece of wood or cardboard tipped with combustible chemical; ignites with friction'"
            ],
            "application/vnd.google.colaboratory.intrinsic+json": {
              "type": "string"
            }
          },
          "metadata": {},
          "execution_count": 4
        }
      ]
    },
    {
      "cell_type": "code",
      "source": [
        "syn.examples()"
      ],
      "metadata": {
        "colab": {
          "base_uri": "https://localhost:8080/"
        },
        "id": "MWbL5AkRKuoE",
        "outputId": "c232d634-e3cb-4056-d05c-99092a6bbbec"
      },
      "execution_count": 5,
      "outputs": [
        {
          "output_type": "execute_result",
          "data": {
            "text/plain": [
              "['he always carries matches to light his pipe',\n",
              " \"as long you've a lucifer to light your fag\"]"
            ]
          },
          "metadata": {},
          "execution_count": 5
        }
      ]
    },
    {
      "cell_type": "code",
      "source": [
        "syn.hypernyms()"
      ],
      "metadata": {
        "colab": {
          "base_uri": "https://localhost:8080/"
        },
        "id": "Kam-w3FcKhhp",
        "outputId": "749582a8-7c25-4e51-dfc4-f1289fbadef9"
      },
      "execution_count": 6,
      "outputs": [
        {
          "output_type": "execute_result",
          "data": {
            "text/plain": [
              "[Synset('lighter.n.02')]"
            ]
          },
          "metadata": {},
          "execution_count": 6
        }
      ]
    },
    {
      "cell_type": "code",
      "source": [
        "syn.hypernyms()[0].hyponyms()"
      ],
      "metadata": {
        "colab": {
          "base_uri": "https://localhost:8080/"
        },
        "id": "6-ajB134K2Ky",
        "outputId": "76f59484-c5cb-4cc7-f929-2a4ea03c3e32"
      },
      "execution_count": 7,
      "outputs": [
        {
          "output_type": "execute_result",
          "data": {
            "text/plain": [
              "[Synset('cigar_lighter.n.01'),\n",
              " Synset('fuse.n.02'),\n",
              " Synset('match.n.01'),\n",
              " Synset('match.n.03')]"
            ]
          },
          "metadata": {},
          "execution_count": 7
        }
      ]
    },
    {
      "cell_type": "code",
      "source": [
        "syn.root_hypernyms()"
      ],
      "metadata": {
        "colab": {
          "base_uri": "https://localhost:8080/"
        },
        "id": "XT73n_mELAKZ",
        "outputId": "0b4ff3bc-561e-4096-d0c1-a600d40e4729"
      },
      "execution_count": 8,
      "outputs": [
        {
          "output_type": "execute_result",
          "data": {
            "text/plain": [
              "[Synset('entity.n.01')]"
            ]
          },
          "metadata": {},
          "execution_count": 8
        }
      ]
    },
    {
      "cell_type": "code",
      "source": [
        "lemmas = syn.lemmas()\n",
        "len(lemmas)"
      ],
      "metadata": {
        "colab": {
          "base_uri": "https://localhost:8080/"
        },
        "id": "iHv4_T8mLE4_",
        "outputId": "26a78889-4250-4206-b06e-5ee67d065d28"
      },
      "execution_count": 9,
      "outputs": [
        {
          "output_type": "execute_result",
          "data": {
            "text/plain": [
              "3"
            ]
          },
          "metadata": {},
          "execution_count": 9
        }
      ]
    },
    {
      "cell_type": "code",
      "source": [
        "lemmas[0].name()"
      ],
      "metadata": {
        "colab": {
          "base_uri": "https://localhost:8080/",
          "height": 36
        },
        "id": "uFojaYBpLIkC",
        "outputId": "48f5ce30-0ae6-4fa2-91f3-b036b1fb8427"
      },
      "execution_count": 10,
      "outputs": [
        {
          "output_type": "execute_result",
          "data": {
            "text/plain": [
              "'match'"
            ],
            "application/vnd.google.colaboratory.intrinsic+json": {
              "type": "string"
            }
          },
          "metadata": {},
          "execution_count": 10
        }
      ]
    },
    {
      "cell_type": "code",
      "source": [
        "lemmas[1].name()"
      ],
      "metadata": {
        "colab": {
          "base_uri": "https://localhost:8080/",
          "height": 36
        },
        "id": "im4w-MBDLPAB",
        "outputId": "1e35ba8c-a487-4bad-9f69-0d6774d7f1f8"
      },
      "execution_count": 11,
      "outputs": [
        {
          "output_type": "execute_result",
          "data": {
            "text/plain": [
              "'lucifer'"
            ],
            "application/vnd.google.colaboratory.intrinsic+json": {
              "type": "string"
            }
          },
          "metadata": {},
          "execution_count": 11
        }
      ]
    },
    {
      "cell_type": "code",
      "source": [
        "lemmas[2].name()"
      ],
      "metadata": {
        "colab": {
          "base_uri": "https://localhost:8080/",
          "height": 36
        },
        "id": "QRGRvPoGLSOa",
        "outputId": "86af71fc-f1e8-4094-b351-5aa4a38235af"
      },
      "execution_count": 12,
      "outputs": [
        {
          "output_type": "execute_result",
          "data": {
            "text/plain": [
              "'friction_match'"
            ],
            "application/vnd.google.colaboratory.intrinsic+json": {
              "type": "string"
            }
          },
          "metadata": {},
          "execution_count": 12
        }
      ]
    },
    {
      "cell_type": "code",
      "source": [
        "# WordNET by checking the synonyms, antonyms and similarity percentage:\n",
        "# Importing libraries:\n",
        "\n",
        "import nltk\n",
        "from nltk.corpus import wordnet\n",
        "# Downloading the wordnet:\n",
        "\n",
        "nltk.download('wordnet')\n",
        "synonyms = []\n",
        "antonyms = []\n",
        "\n",
        "for synset in wordnet.synsets(\"matches\"):\n",
        "    for l in synset.lemmas():\n",
        "        synonyms.append(l.name())\n",
        "        if l.antonyms():\n",
        "            antonyms.append(l.antonyms()[0].name())\n",
        "print(set(synonyms))\n",
        "print(set(antonyms))"
      ],
      "metadata": {
        "colab": {
          "base_uri": "https://localhost:8080/"
        },
        "id": "QLZFwVRmLv-i",
        "outputId": "c565a742-bb82-4a66-9ecd-015e81f37a99"
      },
      "execution_count": 13,
      "outputs": [
        {
          "output_type": "stream",
          "name": "stdout",
          "text": [
            "{'pit', 'oppose', 'mates', 'equate', 'compeer', 'match', 'jibe', 'check', 'gibe', 'mate', 'tally', 'correspond', 'couple', 'equalize', 'equalise', 'fit', 'equal', 'rival', 'friction_match', 'catch', 'play_off', 'meet', 'cope_with', 'pair', 'agree', 'touch', 'twin', 'peer', 'lucifer'}\n",
            "{'disagree'}\n"
          ]
        },
        {
          "output_type": "stream",
          "name": "stderr",
          "text": [
            "[nltk_data] Downloading package wordnet to /root/nltk_data...\n",
            "[nltk_data]   Package wordnet is already up-to-date!\n"
          ]
        }
      ]
    },
    {
      "cell_type": "code",
      "source": [
        "# Checking the word similarity feature:\n",
        "\n",
        "word1 = wordnet.synset('match.n.01')\n",
        "word2 = wordnet.synset('game.n.01')\n",
        "print(word1.wup_similarity(word2)*100)"
      ],
      "metadata": {
        "colab": {
          "base_uri": "https://localhost:8080/"
        },
        "id": "0ocgxZvLMBhe",
        "outputId": "36e34b67-271f-4806-c1ff-82e85f329b39"
      },
      "execution_count": 14,
      "outputs": [
        {
          "output_type": "stream",
          "name": "stdout",
          "text": [
            "12.5\n"
          ]
        }
      ]
    },
    {
      "cell_type": "markdown",
      "source": [
        "# Byte pair encoding"
      ],
      "metadata": {
        "id": "B8Xppe3eL-ok"
      }
    },
    {
      "cell_type": "code",
      "source": [
        "import re, collections\n",
        "def get_stats(vocab):\n",
        "  pairs = collections.defaultdict(int)\n",
        "  for word, freq in vocab.items():\n",
        "    symbols = word.split()\n",
        "    for i in range(len(symbols)-1):\n",
        "      pairs[symbols[i],symbols[i+1]] += freq\n",
        "  return pairs\n",
        "\n",
        "def merge_vocab(pair, v_in):\n",
        "  v_out = {}\n",
        "  bigram = re.escape(' '.join(pair))\n",
        "  p = re.compile(r'(?<!\\S)' + bigram + r'(?!\\S)')\n",
        "  for word in v_in:\n",
        "     w_out = p.sub(''.join(pair), word)\n",
        "     v_out[w_out] = v_in[word]\n",
        "  return v_out \n",
        "\n",
        "vocab = {'l o w </w>' : 5, 'l o w e r </w>' : 2,\n",
        "'n e w e s t </w>':6, 'w i d e s t </w>':3}\n",
        "num_merges = 10\n",
        "for i in range(num_merges):\n",
        "    pairs = get_stats(vocab)\n",
        "    best = max(pairs, key=pairs.get)\n",
        "    vocab = merge_vocab(best, vocab)\n",
        "    print(best)\n"
      ],
      "metadata": {
        "colab": {
          "base_uri": "https://localhost:8080/"
        },
        "id": "M0AtbUKyHaiQ",
        "outputId": "090a2697-78cc-4aa4-b9b6-015b97d2b238"
      },
      "execution_count": null,
      "outputs": [
        {
          "output_type": "stream",
          "name": "stdout",
          "text": [
            "('e', 's')\n",
            "('es', 't')\n",
            "('est', '</w>')\n",
            "('l', 'o')\n",
            "('lo', 'w')\n",
            "('n', 'e')\n",
            "('ne', 'w')\n",
            "('new', 'est</w>')\n",
            "('low', '</w>')\n",
            "('w', 'i')\n"
          ]
        }
      ]
    }
  ],
  "metadata": {
    "colab": {
      "name": "NLP_lab_Programs.ipynb",
      "provenance": [],
      "collapsed_sections": [
        "ZtQ9m6qg7XDi",
        "X97hd52p9Gf9"
      ],
      "toc_visible": true,
      "authorship_tag": "ABX9TyMc1F9HGRN9MGJZ4WwTvws4",
      "include_colab_link": true
    },
    "kernelspec": {
      "display_name": "Python 3",
      "name": "python3"
    },
    "language_info": {
      "name": "python"
    }
  },
  "nbformat": 4,
  "nbformat_minor": 0
}